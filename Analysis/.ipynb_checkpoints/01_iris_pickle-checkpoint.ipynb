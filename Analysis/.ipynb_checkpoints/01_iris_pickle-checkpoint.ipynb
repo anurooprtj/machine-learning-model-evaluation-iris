{
 "cells": [
  {
   "cell_type": "code",
   "execution_count": 1,
   "metadata": {},
   "outputs": [],
   "source": [
    "import numpy as np\n",
    "import pandas as pd"
   ]
  },
  {
   "cell_type": "code",
   "execution_count": 2,
   "metadata": {},
   "outputs": [],
   "source": [
    "irsData = pd.read_csv('/home/ubuntu/machine_learning/projects/irisProject/iris.csv')"
   ]
  },
  {
   "cell_type": "code",
   "execution_count": 3,
   "metadata": {},
   "outputs": [
    {
     "data": {
      "text/plain": [
       "(500, 7)"
      ]
     },
     "execution_count": 3,
     "metadata": {},
     "output_type": "execute_result"
    }
   ],
   "source": [
    "irsData.shape"
   ]
  },
  {
   "cell_type": "code",
   "execution_count": 4,
   "metadata": {},
   "outputs": [
    {
     "data": {
      "text/html": [
       "<div>\n",
       "<style scoped>\n",
       "    .dataframe tbody tr th:only-of-type {\n",
       "        vertical-align: middle;\n",
       "    }\n",
       "\n",
       "    .dataframe tbody tr th {\n",
       "        vertical-align: top;\n",
       "    }\n",
       "\n",
       "    .dataframe thead th {\n",
       "        text-align: right;\n",
       "    }\n",
       "</style>\n",
       "<table border=\"1\" class=\"dataframe\">\n",
       "  <thead>\n",
       "    <tr style=\"text-align: right;\">\n",
       "      <th></th>\n",
       "      <th>Contrast</th>\n",
       "      <th>Dissimilarity</th>\n",
       "      <th>Homogeneity</th>\n",
       "      <th>Energy</th>\n",
       "      <th>Correlation</th>\n",
       "      <th>ASM</th>\n",
       "      <th>label</th>\n",
       "    </tr>\n",
       "  </thead>\n",
       "  <tbody>\n",
       "    <tr>\n",
       "      <th>0</th>\n",
       "      <td>2096.550595</td>\n",
       "      <td>14.044643</td>\n",
       "      <td>0.321601</td>\n",
       "      <td>0.226787</td>\n",
       "      <td>0.076528</td>\n",
       "      <td>0.051432</td>\n",
       "      <td>1</td>\n",
       "    </tr>\n",
       "    <tr>\n",
       "      <th>1</th>\n",
       "      <td>4588.369048</td>\n",
       "      <td>28.970238</td>\n",
       "      <td>0.190078</td>\n",
       "      <td>0.136110</td>\n",
       "      <td>0.085232</td>\n",
       "      <td>0.018526</td>\n",
       "      <td>1</td>\n",
       "    </tr>\n",
       "    <tr>\n",
       "      <th>2</th>\n",
       "      <td>38.473214</td>\n",
       "      <td>3.354167</td>\n",
       "      <td>0.345799</td>\n",
       "      <td>0.280355</td>\n",
       "      <td>-0.048067</td>\n",
       "      <td>0.078599</td>\n",
       "      <td>1</td>\n",
       "    </tr>\n",
       "    <tr>\n",
       "      <th>3</th>\n",
       "      <td>127.955357</td>\n",
       "      <td>6.258929</td>\n",
       "      <td>0.297203</td>\n",
       "      <td>0.214967</td>\n",
       "      <td>0.768491</td>\n",
       "      <td>0.046211</td>\n",
       "      <td>1</td>\n",
       "    </tr>\n",
       "    <tr>\n",
       "      <th>4</th>\n",
       "      <td>196.148810</td>\n",
       "      <td>6.404762</td>\n",
       "      <td>0.366538</td>\n",
       "      <td>0.278039</td>\n",
       "      <td>0.356973</td>\n",
       "      <td>0.077306</td>\n",
       "      <td>1</td>\n",
       "    </tr>\n",
       "  </tbody>\n",
       "</table>\n",
       "</div>"
      ],
      "text/plain": [
       "      Contrast  Dissimilarity  Homogeneity    Energy  Correlation       ASM  \\\n",
       "0  2096.550595      14.044643     0.321601  0.226787     0.076528  0.051432   \n",
       "1  4588.369048      28.970238     0.190078  0.136110     0.085232  0.018526   \n",
       "2    38.473214       3.354167     0.345799  0.280355    -0.048067  0.078599   \n",
       "3   127.955357       6.258929     0.297203  0.214967     0.768491  0.046211   \n",
       "4   196.148810       6.404762     0.366538  0.278039     0.356973  0.077306   \n",
       "\n",
       "   label  \n",
       "0      1  \n",
       "1      1  \n",
       "2      1  \n",
       "3      1  \n",
       "4      1  "
      ]
     },
     "execution_count": 4,
     "metadata": {},
     "output_type": "execute_result"
    }
   ],
   "source": [
    "irsData.head()"
   ]
  },
  {
   "cell_type": "code",
   "execution_count": 5,
   "metadata": {},
   "outputs": [],
   "source": [
    "X = irsData.drop('label', axis = 1)\n",
    "y = irsData['label']\n",
    "#X #y"
   ]
  },
  {
   "cell_type": "code",
   "execution_count": 6,
   "metadata": {},
   "outputs": [],
   "source": [
    "from sklearn.model_selection import train_test_split"
   ]
  },
  {
   "cell_type": "code",
   "execution_count": 7,
   "metadata": {},
   "outputs": [],
   "source": [
    "X_train, X_test, y_train, y_test = train_test_split(\n",
    "    X, y, test_size = 0.2, stratify = y, random_state = 42)"
   ]
  },
  {
   "cell_type": "code",
   "execution_count": 8,
   "metadata": {},
   "outputs": [],
   "source": [
    "from sklearn.preprocessing import StandardScaler"
   ]
  },
  {
   "cell_type": "code",
   "execution_count": 9,
   "metadata": {},
   "outputs": [
    {
     "name": "stdout",
     "output_type": "stream",
     "text": [
      "X_train_shape:  (400, 6)\n",
      "X_test_shape:  (100, 6)\n"
     ]
    }
   ],
   "source": [
    "sc_model = StandardScaler()\n",
    "sc_model.fit(X_train)\n",
    "\n",
    "X_train_std = sc_model.transform(X_train)\n",
    "X_test_std = sc_model.transform(X_test)\n",
    "print(\"X_train_shape: \", X_train.shape)\n",
    "print(\"X_test_shape: \", X_test.shape)\n",
    "print(\"\")"
   ]
  },
  {
   "cell_type": "code",
   "execution_count": 10,
   "metadata": {},
   "outputs": [],
   "source": [
    "from sklearn.decomposition import PCA"
   ]
  },
  {
   "cell_type": "code",
   "execution_count": 11,
   "metadata": {},
   "outputs": [],
   "source": [
    "pca = PCA(n_components = 2)"
   ]
  },
  {
   "cell_type": "code",
   "execution_count": 12,
   "metadata": {},
   "outputs": [
    {
     "name": "stdout",
     "output_type": "stream",
     "text": [
      "X_std_pca.shape:  (400, 2)\n"
     ]
    }
   ],
   "source": [
    "X_std_pca = pca.fit_transform(X_train_std)\n",
    "print(\"X_std_pca.shape: \", X_std_pca.shape)"
   ]
  },
  {
   "cell_type": "code",
   "execution_count": 13,
   "metadata": {},
   "outputs": [],
   "source": [
    "import _pickle as pickle"
   ]
  },
  {
   "cell_type": "code",
   "execution_count": 14,
   "metadata": {},
   "outputs": [],
   "source": [
    "with open('iris.dat', 'wb') as fp:\n",
    "    pickle.dump(X_train, fp)\n",
    "    pickle.dump(X_test, fp)\n",
    "    pickle.dump(X_train_std, fp)\n",
    "    pickle.dump(X_test_std, fp)\n",
    "    pickle.dump(y_train, fp)\n",
    "    pickle.dump(y_test, fp)\n",
    "    pickle.dump(X_std_pca, fp)"
   ]
  },
  {
   "cell_type": "code",
   "execution_count": null,
   "metadata": {},
   "outputs": [],
   "source": []
  }
 ],
 "metadata": {
  "kernelspec": {
   "display_name": "Python 3",
   "language": "python",
   "name": "python3"
  },
  "language_info": {
   "codemirror_mode": {
    "name": "ipython",
    "version": 3
   },
   "file_extension": ".py",
   "mimetype": "text/x-python",
   "name": "python",
   "nbconvert_exporter": "python",
   "pygments_lexer": "ipython3",
   "version": "3.6.7"
  }
 },
 "nbformat": 4,
 "nbformat_minor": 2
}
